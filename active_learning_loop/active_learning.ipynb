{
 "cells": [
  {
   "cell_type": "code",
   "execution_count": 1,
   "metadata": {},
   "outputs": [],
   "source": [
    "import os\n",
    "import numpy as np\n",
    "\n",
    "from sklearn.preprocessing import MinMaxScaler\n",
    "from library.utils import *\n",
    "from library.model import *\n",
    "from library.active_learning import *\n",
    "import warnings\n",
    "warnings.filterwarnings(\"ignore\")"
   ]
  },
  {
   "cell_type": "markdown",
   "metadata": {},
   "source": [
    "Changing working directory if needed"
   ]
  },
  {
   "cell_type": "code",
   "execution_count": 2,
   "metadata": {},
   "outputs": [
    {
     "data": {
      "text/plain": [
       "'c:\\\\Users\\\\tnhoang\\\\Documents\\\\active_learning_cell_free\\\\active_learning_loop'"
      ]
     },
     "execution_count": 2,
     "metadata": {},
     "output_type": "execute_result"
    }
   ],
   "source": [
    "# this function find your current working directory\n",
    "os.getcwd()\n",
    "\n",
    "# DIRECTORY = 'c:\\\\Users\\\\tnhoang\\\\Documents\\\\active_learning_cell_free\\\\active_learning_loop\\\\'\n",
    "# os.chdir(DIRECTORY)"
   ]
  },
  {
   "cell_type": "markdown",
   "metadata": {},
   "source": [
    "Input: modify here\n",
    "\n",
    "- Parameter file: must be csv, with each component as row, names in first column, then maximun concentration and different ratio in each column\n",
    "- Data files must be csv, with row as experiment, each column contains concentration, target should be last 1-2 columns"
   ]
  },
  {
   "cell_type": "code",
   "execution_count": 3,
   "metadata": {},
   "outputs": [],
   "source": [
    "# IMPORTANT: data input for modelling \n",
    "parameter_file = \"data\\\\parameter_lipase_modify_name.csv\"  # path\\\\name of parameter files\n",
    "data_folder = \"data\\\\no_controls\"                          # where data files are\n",
    "target = ['yield', 'yield_std']                            # column name of Y for modelling\n",
    "\n",
    "# Modelling parameters \n",
    "nb_ensemble = 4                                            # nb of models in ensemble \n",
    "nb_repeat = 4                                              # nb of repeatition to select best initial random weight\n",
    "hidden_layer_sizes = [(10, 100, 100, 20),\n",
    "                    (100, 100, 20),\n",
    "                    (40, 10),\n",
    "                    (10)]                                  # architechture for mlp models\n",
    "\n",
    "# active learning parameters\n",
    "nb_new_data = 500                                          # nb of new data seleted every interations of active learning\n",
    "visual = True\n",
    "interation = 1                                             # to name result files\n",
    "name = \"data\\\\active_learning_result\\\\Interation_\" + str(interation)        # please create in advance an 'active_learning_result' file in your directory/ or change into your desire file "
   ]
  },
  {
   "cell_type": "markdown",
   "metadata": {},
   "source": [
    "Read parameter file:\n",
    "- check if component name are correct \n",
    "- verbose = False if you don't want to print out any information"
   ]
  },
  {
   "cell_type": "code",
   "execution_count": 4,
   "metadata": {},
   "outputs": [
    {
     "name": "stdout",
     "output_type": "stream",
     "text": [
      "Number of metabolites : 11\n",
      "Number of combinations - poolsize : 4194304\n",
      "Possible concentrations: \n"
     ]
    },
    {
     "data": {
      "text/html": [
       "<div>\n",
       "<style scoped>\n",
       "    .dataframe tbody tr th:only-of-type {\n",
       "        vertical-align: middle;\n",
       "    }\n",
       "\n",
       "    .dataframe tbody tr th {\n",
       "        vertical-align: top;\n",
       "    }\n",
       "\n",
       "    .dataframe thead th {\n",
       "        text-align: right;\n",
       "    }\n",
       "</style>\n",
       "<table border=\"1\" class=\"dataframe\">\n",
       "  <thead>\n",
       "    <tr style=\"text-align: right;\">\n",
       "      <th></th>\n",
       "      <th>mg_gluta</th>\n",
       "      <th>K_gluta</th>\n",
       "      <th>aa</th>\n",
       "      <th>trna</th>\n",
       "      <th>coa</th>\n",
       "      <th>nad</th>\n",
       "      <th>camp</th>\n",
       "      <th>folinic_acid</th>\n",
       "      <th>spermidin</th>\n",
       "      <th>pga</th>\n",
       "      <th>nucleo_mix</th>\n",
       "    </tr>\n",
       "  </thead>\n",
       "  <tbody>\n",
       "    <tr>\n",
       "      <th>0</th>\n",
       "      <td>0.4</td>\n",
       "      <td>8.0</td>\n",
       "      <td>0.15</td>\n",
       "      <td>0.02</td>\n",
       "      <td>0.026</td>\n",
       "      <td>0.033</td>\n",
       "      <td>0.075</td>\n",
       "      <td>0.0068</td>\n",
       "      <td>0.1</td>\n",
       "      <td>3.0</td>\n",
       "      <td>0.15</td>\n",
       "    </tr>\n",
       "    <tr>\n",
       "      <th>1</th>\n",
       "      <td>1.2</td>\n",
       "      <td>24.0</td>\n",
       "      <td>0.45</td>\n",
       "      <td>0.06</td>\n",
       "      <td>0.078</td>\n",
       "      <td>0.099</td>\n",
       "      <td>0.225</td>\n",
       "      <td>0.0204</td>\n",
       "      <td>0.3</td>\n",
       "      <td>9.0</td>\n",
       "      <td>0.45</td>\n",
       "    </tr>\n",
       "    <tr>\n",
       "      <th>2</th>\n",
       "      <td>2.0</td>\n",
       "      <td>40.0</td>\n",
       "      <td>0.75</td>\n",
       "      <td>0.10</td>\n",
       "      <td>0.130</td>\n",
       "      <td>0.165</td>\n",
       "      <td>0.375</td>\n",
       "      <td>0.0340</td>\n",
       "      <td>0.5</td>\n",
       "      <td>15.0</td>\n",
       "      <td>0.75</td>\n",
       "    </tr>\n",
       "    <tr>\n",
       "      <th>3</th>\n",
       "      <td>4.0</td>\n",
       "      <td>80.0</td>\n",
       "      <td>1.50</td>\n",
       "      <td>0.20</td>\n",
       "      <td>0.260</td>\n",
       "      <td>0.330</td>\n",
       "      <td>0.750</td>\n",
       "      <td>0.0680</td>\n",
       "      <td>1.0</td>\n",
       "      <td>30.0</td>\n",
       "      <td>1.50</td>\n",
       "    </tr>\n",
       "  </tbody>\n",
       "</table>\n",
       "</div>"
      ],
      "text/plain": [
       "   mg_gluta  K_gluta    aa  trna    coa    nad   camp  folinic_acid  \\\n",
       "0       0.4      8.0  0.15  0.02  0.026  0.033  0.075        0.0068   \n",
       "1       1.2     24.0  0.45  0.06  0.078  0.099  0.225        0.0204   \n",
       "2       2.0     40.0  0.75  0.10  0.130  0.165  0.375        0.0340   \n",
       "3       4.0     80.0  1.50  0.20  0.260  0.330  0.750        0.0680   \n",
       "\n",
       "   spermidin   pga  nucleo_mix  \n",
       "0        0.1   3.0        0.15  \n",
       "1        0.3   9.0        0.45  \n",
       "2        0.5  15.0        0.75  \n",
       "3        1.0  30.0        1.50  "
      ]
     },
     "metadata": {},
     "output_type": "display_data"
    }
   ],
   "source": [
    "element_list, element_max, sampling_condition = import_parameter(parameter_file, verbose = True)"
   ]
  },
  {
   "cell_type": "markdown",
   "metadata": {},
   "source": [
    "Read all csv file in data folder, check if their column names and orders are the same, if not then skip file\n",
    " - Please check if all files you want appeared\n",
    " - Check if Y column and Y_std are the last 2 columns\n",
    " - if print out \"All files have consistent column orders\" => good to go"
   ]
  },
  {
   "cell_type": "code",
   "execution_count": 5,
   "metadata": {},
   "outputs": [
    {
     "name": "stdout",
     "output_type": "stream",
     "text": [
      "Read  10  files: \n",
      "-  plate_AL_10_raw_yield_and_std.csv\n",
      "-  plate_AL_1_raw_yield_and_std.csv\n",
      "-  plate_AL_2_raw_yield_and_std.csv\n",
      "-  plate_AL_3_raw_yield_and_std.csv\n",
      "-  plate_AL_4_raw_yield_and_std.csv\n",
      "-  plate_AL_5_raw_yield_and_std.csv\n",
      "-  plate_AL_6_raw_yield_and_std.csv\n",
      "-  plate_AL_7_raw_yield_and_std.csv\n",
      "-  plate_AL_8_raw_yield_and_std.csv\n",
      "-  plate_AL_9_raw_yield_and_std.csv\n"
     ]
    },
    {
     "data": {
      "text/html": [
       "<div>\n",
       "<style scoped>\n",
       "    .dataframe tbody tr th:only-of-type {\n",
       "        vertical-align: middle;\n",
       "    }\n",
       "\n",
       "    .dataframe tbody tr th {\n",
       "        vertical-align: top;\n",
       "    }\n",
       "\n",
       "    .dataframe thead th {\n",
       "        text-align: right;\n",
       "    }\n",
       "</style>\n",
       "<table border=\"1\" class=\"dataframe\">\n",
       "  <thead>\n",
       "    <tr style=\"text-align: right;\">\n",
       "      <th></th>\n",
       "      <th>nad</th>\n",
       "      <th>folinic_acid</th>\n",
       "      <th>coa</th>\n",
       "      <th>nucleo_mix</th>\n",
       "      <th>spermidin</th>\n",
       "      <th>pga</th>\n",
       "      <th>aa</th>\n",
       "      <th>trna</th>\n",
       "      <th>mg_gluta</th>\n",
       "      <th>camp</th>\n",
       "      <th>K_gluta</th>\n",
       "      <th>yield</th>\n",
       "      <th>yield_std</th>\n",
       "    </tr>\n",
       "  </thead>\n",
       "  <tbody>\n",
       "    <tr>\n",
       "      <th>0</th>\n",
       "      <td>0.165</td>\n",
       "      <td>0.0068</td>\n",
       "      <td>0.026</td>\n",
       "      <td>1.5</td>\n",
       "      <td>0.1</td>\n",
       "      <td>9</td>\n",
       "      <td>0.75</td>\n",
       "      <td>0.02</td>\n",
       "      <td>4.0</td>\n",
       "      <td>0.075</td>\n",
       "      <td>80</td>\n",
       "      <td>2.2258</td>\n",
       "      <td>0.2420</td>\n",
       "    </tr>\n",
       "    <tr>\n",
       "      <th>1</th>\n",
       "      <td>0.099</td>\n",
       "      <td>0.0204</td>\n",
       "      <td>0.026</td>\n",
       "      <td>1.5</td>\n",
       "      <td>0.1</td>\n",
       "      <td>9</td>\n",
       "      <td>0.75</td>\n",
       "      <td>0.06</td>\n",
       "      <td>4.0</td>\n",
       "      <td>0.075</td>\n",
       "      <td>80</td>\n",
       "      <td>2.3039</td>\n",
       "      <td>0.1469</td>\n",
       "    </tr>\n",
       "    <tr>\n",
       "      <th>2</th>\n",
       "      <td>0.165</td>\n",
       "      <td>0.0068</td>\n",
       "      <td>0.078</td>\n",
       "      <td>1.5</td>\n",
       "      <td>0.1</td>\n",
       "      <td>9</td>\n",
       "      <td>0.75</td>\n",
       "      <td>0.02</td>\n",
       "      <td>4.0</td>\n",
       "      <td>0.075</td>\n",
       "      <td>80</td>\n",
       "      <td>2.4212</td>\n",
       "      <td>0.0426</td>\n",
       "    </tr>\n",
       "    <tr>\n",
       "      <th>3</th>\n",
       "      <td>0.099</td>\n",
       "      <td>0.0204</td>\n",
       "      <td>0.026</td>\n",
       "      <td>1.5</td>\n",
       "      <td>0.1</td>\n",
       "      <td>9</td>\n",
       "      <td>0.75</td>\n",
       "      <td>0.02</td>\n",
       "      <td>4.0</td>\n",
       "      <td>0.225</td>\n",
       "      <td>80</td>\n",
       "      <td>2.3568</td>\n",
       "      <td>0.0690</td>\n",
       "    </tr>\n",
       "    <tr>\n",
       "      <th>4</th>\n",
       "      <td>0.033</td>\n",
       "      <td>0.0340</td>\n",
       "      <td>0.078</td>\n",
       "      <td>1.5</td>\n",
       "      <td>0.1</td>\n",
       "      <td>9</td>\n",
       "      <td>0.75</td>\n",
       "      <td>0.02</td>\n",
       "      <td>4.0</td>\n",
       "      <td>0.075</td>\n",
       "      <td>80</td>\n",
       "      <td>2.4100</td>\n",
       "      <td>0.1124</td>\n",
       "    </tr>\n",
       "    <tr>\n",
       "      <th>...</th>\n",
       "      <td>...</td>\n",
       "      <td>...</td>\n",
       "      <td>...</td>\n",
       "      <td>...</td>\n",
       "      <td>...</td>\n",
       "      <td>...</td>\n",
       "      <td>...</td>\n",
       "      <td>...</td>\n",
       "      <td>...</td>\n",
       "      <td>...</td>\n",
       "      <td>...</td>\n",
       "      <td>...</td>\n",
       "      <td>...</td>\n",
       "    </tr>\n",
       "    <tr>\n",
       "      <th>1012</th>\n",
       "      <td>0.033</td>\n",
       "      <td>0.0680</td>\n",
       "      <td>0.078</td>\n",
       "      <td>1.5</td>\n",
       "      <td>0.1</td>\n",
       "      <td>9</td>\n",
       "      <td>1.50</td>\n",
       "      <td>0.20</td>\n",
       "      <td>4.0</td>\n",
       "      <td>0.225</td>\n",
       "      <td>80</td>\n",
       "      <td>2.1392</td>\n",
       "      <td>0.1987</td>\n",
       "    </tr>\n",
       "    <tr>\n",
       "      <th>1013</th>\n",
       "      <td>0.330</td>\n",
       "      <td>0.0340</td>\n",
       "      <td>0.130</td>\n",
       "      <td>1.5</td>\n",
       "      <td>0.1</td>\n",
       "      <td>9</td>\n",
       "      <td>1.50</td>\n",
       "      <td>0.10</td>\n",
       "      <td>4.0</td>\n",
       "      <td>0.225</td>\n",
       "      <td>80</td>\n",
       "      <td>2.4856</td>\n",
       "      <td>0.1093</td>\n",
       "    </tr>\n",
       "    <tr>\n",
       "      <th>1014</th>\n",
       "      <td>0.330</td>\n",
       "      <td>0.0680</td>\n",
       "      <td>0.130</td>\n",
       "      <td>1.5</td>\n",
       "      <td>0.1</td>\n",
       "      <td>9</td>\n",
       "      <td>1.50</td>\n",
       "      <td>0.06</td>\n",
       "      <td>4.0</td>\n",
       "      <td>0.075</td>\n",
       "      <td>80</td>\n",
       "      <td>2.5275</td>\n",
       "      <td>0.0938</td>\n",
       "    </tr>\n",
       "    <tr>\n",
       "      <th>1015</th>\n",
       "      <td>0.099</td>\n",
       "      <td>0.0680</td>\n",
       "      <td>0.078</td>\n",
       "      <td>1.5</td>\n",
       "      <td>0.1</td>\n",
       "      <td>9</td>\n",
       "      <td>1.50</td>\n",
       "      <td>0.20</td>\n",
       "      <td>4.0</td>\n",
       "      <td>0.225</td>\n",
       "      <td>80</td>\n",
       "      <td>2.5409</td>\n",
       "      <td>0.1190</td>\n",
       "    </tr>\n",
       "    <tr>\n",
       "      <th>1016</th>\n",
       "      <td>0.330</td>\n",
       "      <td>0.0680</td>\n",
       "      <td>0.130</td>\n",
       "      <td>1.5</td>\n",
       "      <td>0.1</td>\n",
       "      <td>9</td>\n",
       "      <td>1.50</td>\n",
       "      <td>0.10</td>\n",
       "      <td>4.0</td>\n",
       "      <td>0.075</td>\n",
       "      <td>80</td>\n",
       "      <td>2.4909</td>\n",
       "      <td>0.1034</td>\n",
       "    </tr>\n",
       "  </tbody>\n",
       "</table>\n",
       "<p>1017 rows × 13 columns</p>\n",
       "</div>"
      ],
      "text/plain": [
       "        nad  folinic_acid    coa  nucleo_mix  spermidin  pga    aa  trna  \\\n",
       "0     0.165        0.0068  0.026         1.5        0.1    9  0.75  0.02   \n",
       "1     0.099        0.0204  0.026         1.5        0.1    9  0.75  0.06   \n",
       "2     0.165        0.0068  0.078         1.5        0.1    9  0.75  0.02   \n",
       "3     0.099        0.0204  0.026         1.5        0.1    9  0.75  0.02   \n",
       "4     0.033        0.0340  0.078         1.5        0.1    9  0.75  0.02   \n",
       "...     ...           ...    ...         ...        ...  ...   ...   ...   \n",
       "1012  0.033        0.0680  0.078         1.5        0.1    9  1.50  0.20   \n",
       "1013  0.330        0.0340  0.130         1.5        0.1    9  1.50  0.10   \n",
       "1014  0.330        0.0680  0.130         1.5        0.1    9  1.50  0.06   \n",
       "1015  0.099        0.0680  0.078         1.5        0.1    9  1.50  0.20   \n",
       "1016  0.330        0.0680  0.130         1.5        0.1    9  1.50  0.10   \n",
       "\n",
       "      mg_gluta   camp  K_gluta   yield  yield_std  \n",
       "0          4.0  0.075       80  2.2258     0.2420  \n",
       "1          4.0  0.075       80  2.3039     0.1469  \n",
       "2          4.0  0.075       80  2.4212     0.0426  \n",
       "3          4.0  0.225       80  2.3568     0.0690  \n",
       "4          4.0  0.075       80  2.4100     0.1124  \n",
       "...        ...    ...      ...     ...        ...  \n",
       "1012       4.0  0.225       80  2.1392     0.1987  \n",
       "1013       4.0  0.225       80  2.4856     0.1093  \n",
       "1014       4.0  0.075       80  2.5275     0.0938  \n",
       "1015       4.0  0.225       80  2.5409     0.1190  \n",
       "1016       4.0  0.075       80  2.4909     0.1034  \n",
       "\n",
       "[1017 rows x 13 columns]"
      ]
     },
     "metadata": {},
     "output_type": "display_data"
    },
    {
     "name": "stdout",
     "output_type": "stream",
     "text": [
      "All files have consistent column orders.\n"
     ]
    }
   ],
   "source": [
    "data = import_data(data_folder, verbose = True)"
   ]
  },
  {
   "cell_type": "markdown",
   "metadata": {},
   "source": [
    "Check column names are consitant between data files and parameter files, if not through a warning"
   ]
  },
  {
   "cell_type": "code",
   "execution_count": 6,
   "metadata": {},
   "outputs": [
    {
     "name": "stdout",
     "output_type": "stream",
     "text": [
      "All column names matched!\n"
     ]
    }
   ],
   "source": [
    "check_column_names(data,target,element_list)"
   ]
  },
  {
   "cell_type": "markdown",
   "metadata": {},
   "source": [
    "Modelling part (to be change)"
   ]
  },
  {
   "cell_type": "code",
   "execution_count": 7,
   "metadata": {},
   "outputs": [],
   "source": [
    "# Split X/y\n",
    "X = data[element_list]\n",
    "y = data[target[0]]\n",
    "\n",
    "# normalize data\n",
    "scaler = MinMaxScaler()\n",
    "scaler.fit(X)\n",
    "X_normalized = scaler.transform(X)\n",
    "\n",
    "# train emsemble\n",
    "ensemble_models = []\n",
    "for i in range(nb_ensemble):\n",
    "    repeat_models = train_repeat(X_normalized, y,\n",
    "               hidden_layer_sizes,\n",
    "               nb_repeat = nb_repeat,\n",
    "               verbose = False)\n",
    "    \n",
    "    best_model = pick_lowest_loss(repeat_models)\n",
    "    ensemble_models.append(best_model)"
   ]
  },
  {
   "cell_type": "code",
   "execution_count": 8,
   "metadata": {},
   "outputs": [
    {
     "data": {
      "image/png": "[encoded data removed]",
      "text/plain": [
       "<Figure size 1000x800 with 4 Axes>"
      ]
     },
     "metadata": {},
     "output_type": "display_data"
    }
   ],
   "source": [
    "# performance on TRAINING set\n",
    "if visual:\n",
    "    plot_loss(ensemble_models, highlight = True)"
   ]
  },
  {
   "cell_type": "markdown",
   "metadata": {},
   "source": [
    "Finding next experiments to test by active learning and save results in csv \n",
    "\n",
    "NOTE: Not yet able to change exploit/explore ratio"
   ]
  },
  {
   "cell_type": "code",
   "execution_count": 9,
   "metadata": {},
   "outputs": [
    {
     "name": "stdout",
     "output_type": "stream",
     "text": [
      "For UCB:\n",
      "Maximum yield prediction = 2.284253447135748\n",
      "For exploitation:\n",
      "Maximum yield prediction = 2.284253447135748\n",
      "For exploration:\n",
      "Maximum yield prediction = 1.8470565368504808\n"
     ]
    }
   ],
   "source": [
    "ucb_top, ratio, exploit_top, explore_top = active_found(ensemble_models, sampling_condition, nb_new_data, X, scaler, verbose = True)"
   ]
  },
  {
   "cell_type": "markdown",
   "metadata": {},
   "source": [
    "Plot histogram for exploit/ explore ratio"
   ]
  },
  {
   "cell_type": "code",
   "execution_count": 21,
   "metadata": {},
   "outputs": [
    {
     "data": {
      "image/png": "[encoded data removed]",
      "text/plain": [
       "<Figure size 640x480 with 1 Axes>"
      ]
     },
     "metadata": {},
     "output_type": "display_data"
    }
   ],
   "source": [
    "plt.hist(ratio)\n",
    "plt.xlabel('Ratio value')\n",
    "plt.ylabel('Frequency')\n",
    "plt.title('Distribution of exploit/ explore ratio selected in ucb list')\n",
    "plt.show()\n",
    "\n",
    "# ratio calculated by exploitation / (ucb - exploitation)\n",
    "# higher ratio , higher exploitation value\n",
    "# ratio = 1, exploit = explore value"
   ]
  },
  {
   "cell_type": "markdown",
   "metadata": {},
   "source": [
    "Save results as csv"
   ]
  },
  {
   "cell_type": "code",
   "execution_count": 11,
   "metadata": {},
   "outputs": [],
   "source": [
    "# save file\n",
    "np.savetxt(name + \"_ucb.csv\", ucb_top, delimiter=',', header=','.join(element_list), comments='')           # save X selected by ucb\n",
    "np.savetxt(name + \"_exeploit/explore_ratio.csv\", )                                                          # save ratio in ucb list\n",
    "np.savetxt(name + \"_exploit.csv\", exploit_top, delimiter=',', header=','.join(element_list), comments='')   # save X selected by exploitation \n",
    "np.savetxt(name + \"_explore.csv\", explore_top, delimiter=',', header=','.join(element_list), comments='')   # save X selected by exploration"
   ]
  }
 ],
 "metadata": {
  "kernelspec": {
   "display_name": "cellfree",
   "language": "python",
   "name": "python3"
  },
  "language_info": {
   "codemirror_mode": {
    "name": "ipython",
    "version": 3
   },
   "file_extension": ".py",
   "mimetype": "text/x-python",
   "name": "python",
   "nbconvert_exporter": "python",
   "pygments_lexer": "ipython3",
   "version": "3.11.5"
  }
 },
 "nbformat": 4,
 "nbformat_minor": 2
}
